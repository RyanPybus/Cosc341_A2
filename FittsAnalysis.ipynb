{
  "nbformat": 4,
  "nbformat_minor": 0,
  "metadata": {
    "colab": {
      "provenance": []
    },
    "kernelspec": {
      "name": "python3",
      "display_name": "Python 3"
    },
    "language_info": {
      "name": "python"
    }
  },
  "cells": [
    {
      "cell_type": "code",
      "execution_count": 3,
      "metadata": {
        "colab": {
          "base_uri": "https://localhost:8080/"
        },
        "id": "wNM7iJ_9K3Ex",
        "outputId": "aee73a39-fffd-46d3-9809-e115c6861e2a"
      },
      "outputs": [
        {
          "output_type": "stream",
          "name": "stdout",
          "text": [
            "Requirement already satisfied: pandas in /usr/local/lib/python3.10/dist-packages (2.1.4)\n",
            "Requirement already satisfied: numpy<2,>=1.22.4 in /usr/local/lib/python3.10/dist-packages (from pandas) (1.26.4)\n",
            "Requirement already satisfied: python-dateutil>=2.8.2 in /usr/local/lib/python3.10/dist-packages (from pandas) (2.8.2)\n",
            "Requirement already satisfied: pytz>=2020.1 in /usr/local/lib/python3.10/dist-packages (from pandas) (2024.1)\n",
            "Requirement already satisfied: tzdata>=2022.1 in /usr/local/lib/python3.10/dist-packages (from pandas) (2024.1)\n",
            "Requirement already satisfied: six>=1.5 in /usr/local/lib/python3.10/dist-packages (from python-dateutil>=2.8.2->pandas) (1.16.0)\n",
            "    ID  Size  Amplitude      Time  Wrong  Device\n",
            "0    1   0.9        1.5  1.250131      0   mouse\n",
            "1    1   0.9        1.5  0.856966      0   mouse\n",
            "2    1   0.9        1.5  0.939908      0   mouse\n",
            "3    1   0.9        1.5  0.772747      0   mouse\n",
            "4    1   0.9        1.5  0.819812      0   mouse\n",
            "..  ..   ...        ...       ...    ...     ...\n",
            "86   8   0.3        4.5  1.606721      0     pad\n",
            "87   8   0.3        4.5  1.144663      0     pad\n",
            "88   8   0.3        4.5  1.206654      0     pad\n",
            "89   8   0.3        4.5  0.964014      0     pad\n",
            "90   8   0.3        4.5  1.112280      0     pad\n",
            "\n",
            "[550 rows x 6 columns]\n",
            "Size  Amplitude  Device\n",
            "0.3   1.5         mouse    0.874092\n",
            "                  pad      1.235761\n",
            "      3.0         mouse    1.010181\n",
            "                  pad      1.343826\n",
            "      4.5         mouse    1.290883\n",
            "                  pad      1.580072\n",
            "0.6   1.5         mouse    0.718376\n",
            "                  pad      1.005849\n",
            "      3.0         mouse    0.828232\n",
            "                  pad      1.192842\n",
            "      4.5         mouse    1.005158\n",
            "                  pad      1.318290\n",
            "0.9   1.5         mouse    0.736002\n",
            "                  pad      1.037680\n",
            "      3.0         mouse    0.753150\n",
            "                  pad      1.123415\n",
            "      4.5         mouse    0.861923\n",
            "                  pad      1.280898\n",
            "Name: Time, dtype: float64\n",
            "Device\n",
            " mouse    6\n",
            " pad      4\n",
            "Name: Wrong, dtype: int64\n"
          ]
        }
      ],
      "source": [
        "!pip install pandas\n",
        "import pandas as pd\n",
        "\n",
        "dfm1 = pd.read_csv('mouse1.csv')\n",
        "dfm2 = pd.read_csv('mouse2.csv')\n",
        "dfm8 = pd.read_csv('mouse8.csv')\n",
        "dfp1 = pd.read_csv('pad1.csv')\n",
        "dfp2 = pd.read_csv('pad2.csv')\n",
        "dfp8 = pd.read_csv('pad8.csv')\n",
        "\n",
        "combined_df = pd.concat([dfm1, dfm2, dfm8, dfp1, dfp2, dfp8])\n",
        "print (combined_df)\n",
        "\n",
        "result = combined_df.groupby(['Size', 'Amplitude', 'Device'])['Time'].mean()\n",
        "print(result)\n",
        "\n",
        "result2 = combined_df.groupby(['Device'])['Wrong'].sum()\n",
        "print(result2)\n"
      ]
    }
  ]
}